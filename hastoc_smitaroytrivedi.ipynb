{
 "cells": [
  {
   "cell_type": "code",
   "execution_count": 2,
   "metadata": {},
   "outputs": [],
   "source": [
    "import numpy as np\n",
    "import pandas as pd\n",
    "import matplotlib.pyplot as plt\n",
    "%matplotlib inline\n",
    "import datetime\n",
    "import pandas_datareader as web"
   ]
  },
  {
   "cell_type": "code",
   "execution_count": 10,
   "metadata": {},
   "outputs": [],
   "source": [
    "start= datetime.datetime(2010,1,1)\n",
    "end=datetime.datetime(2020,7,16)\n",
    "NIFTY = web.DataReader('^NSEI','yahoo',start, end)"
   ]
  },
  {
   "cell_type": "code",
   "execution_count": 11,
   "metadata": {},
   "outputs": [
    {
     "data": {
      "text/html": [
       "<div>\n",
       "<style scoped>\n",
       "    .dataframe tbody tr th:only-of-type {\n",
       "        vertical-align: middle;\n",
       "    }\n",
       "\n",
       "    .dataframe tbody tr th {\n",
       "        vertical-align: top;\n",
       "    }\n",
       "\n",
       "    .dataframe thead th {\n",
       "        text-align: right;\n",
       "    }\n",
       "</style>\n",
       "<table border=\"1\" class=\"dataframe\">\n",
       "  <thead>\n",
       "    <tr style=\"text-align: right;\">\n",
       "      <th></th>\n",
       "      <th>High</th>\n",
       "      <th>Low</th>\n",
       "      <th>Open</th>\n",
       "      <th>Close</th>\n",
       "      <th>Volume</th>\n",
       "      <th>Adj Close</th>\n",
       "    </tr>\n",
       "    <tr>\n",
       "      <th>Date</th>\n",
       "      <th></th>\n",
       "      <th></th>\n",
       "      <th></th>\n",
       "      <th></th>\n",
       "      <th></th>\n",
       "      <th></th>\n",
       "    </tr>\n",
       "  </thead>\n",
       "  <tbody>\n",
       "    <tr>\n",
       "      <th>2010-01-04</th>\n",
       "      <td>5238.450195</td>\n",
       "      <td>5167.100098</td>\n",
       "      <td>5200.899902</td>\n",
       "      <td>5232.200195</td>\n",
       "      <td>0.0</td>\n",
       "      <td>5232.200195</td>\n",
       "    </tr>\n",
       "    <tr>\n",
       "      <th>2010-01-05</th>\n",
       "      <td>5288.350098</td>\n",
       "      <td>5242.399902</td>\n",
       "      <td>5277.149902</td>\n",
       "      <td>5277.899902</td>\n",
       "      <td>0.0</td>\n",
       "      <td>5277.899902</td>\n",
       "    </tr>\n",
       "    <tr>\n",
       "      <th>2010-01-06</th>\n",
       "      <td>5310.850098</td>\n",
       "      <td>5260.049805</td>\n",
       "      <td>5278.149902</td>\n",
       "      <td>5281.799805</td>\n",
       "      <td>0.0</td>\n",
       "      <td>5281.799805</td>\n",
       "    </tr>\n",
       "    <tr>\n",
       "      <th>2010-01-07</th>\n",
       "      <td>5302.549805</td>\n",
       "      <td>5244.750000</td>\n",
       "      <td>5281.799805</td>\n",
       "      <td>5263.100098</td>\n",
       "      <td>0.0</td>\n",
       "      <td>5263.100098</td>\n",
       "    </tr>\n",
       "    <tr>\n",
       "      <th>2010-01-08</th>\n",
       "      <td>5276.750000</td>\n",
       "      <td>5234.700195</td>\n",
       "      <td>5264.250000</td>\n",
       "      <td>5244.750000</td>\n",
       "      <td>0.0</td>\n",
       "      <td>5244.750000</td>\n",
       "    </tr>\n",
       "  </tbody>\n",
       "</table>\n",
       "</div>"
      ],
      "text/plain": [
       "                   High          Low         Open        Close  Volume  \\\n",
       "Date                                                                     \n",
       "2010-01-04  5238.450195  5167.100098  5200.899902  5232.200195     0.0   \n",
       "2010-01-05  5288.350098  5242.399902  5277.149902  5277.899902     0.0   \n",
       "2010-01-06  5310.850098  5260.049805  5278.149902  5281.799805     0.0   \n",
       "2010-01-07  5302.549805  5244.750000  5281.799805  5263.100098     0.0   \n",
       "2010-01-08  5276.750000  5234.700195  5264.250000  5244.750000     0.0   \n",
       "\n",
       "              Adj Close  \n",
       "Date                     \n",
       "2010-01-04  5232.200195  \n",
       "2010-01-05  5277.899902  \n",
       "2010-01-06  5281.799805  \n",
       "2010-01-07  5263.100098  \n",
       "2010-01-08  5244.750000  "
      ]
     },
     "execution_count": 11,
     "metadata": {},
     "output_type": "execute_result"
    }
   ],
   "source": [
    "NIFTY.head()"
   ]
  },
  {
   "cell_type": "code",
   "execution_count": 12,
   "metadata": {},
   "outputs": [
    {
     "data": {
      "text/html": [
       "<div>\n",
       "<style scoped>\n",
       "    .dataframe tbody tr th:only-of-type {\n",
       "        vertical-align: middle;\n",
       "    }\n",
       "\n",
       "    .dataframe tbody tr th {\n",
       "        vertical-align: top;\n",
       "    }\n",
       "\n",
       "    .dataframe thead th {\n",
       "        text-align: right;\n",
       "    }\n",
       "</style>\n",
       "<table border=\"1\" class=\"dataframe\">\n",
       "  <thead>\n",
       "    <tr style=\"text-align: right;\">\n",
       "      <th></th>\n",
       "      <th>High</th>\n",
       "      <th>Low</th>\n",
       "      <th>Open</th>\n",
       "      <th>Close</th>\n",
       "      <th>Volume</th>\n",
       "      <th>Adj Close</th>\n",
       "      <th>HA_Close</th>\n",
       "      <th>ha_open</th>\n",
       "    </tr>\n",
       "    <tr>\n",
       "      <th>Date</th>\n",
       "      <th></th>\n",
       "      <th></th>\n",
       "      <th></th>\n",
       "      <th></th>\n",
       "      <th></th>\n",
       "      <th></th>\n",
       "      <th></th>\n",
       "      <th></th>\n",
       "    </tr>\n",
       "  </thead>\n",
       "  <tbody>\n",
       "    <tr>\n",
       "      <th>2010-01-04</th>\n",
       "      <td>5238.450195</td>\n",
       "      <td>5167.100098</td>\n",
       "      <td>5200.899902</td>\n",
       "      <td>5232.200195</td>\n",
       "      <td>0.0</td>\n",
       "      <td>5232.200195</td>\n",
       "      <td>5209.662598</td>\n",
       "      <td>NaN</td>\n",
       "    </tr>\n",
       "    <tr>\n",
       "      <th>2010-01-05</th>\n",
       "      <td>5288.350098</td>\n",
       "      <td>5242.399902</td>\n",
       "      <td>5277.149902</td>\n",
       "      <td>5277.899902</td>\n",
       "      <td>0.0</td>\n",
       "      <td>5277.899902</td>\n",
       "      <td>5271.449951</td>\n",
       "      <td>NaN</td>\n",
       "    </tr>\n",
       "    <tr>\n",
       "      <th>2010-01-06</th>\n",
       "      <td>5310.850098</td>\n",
       "      <td>5260.049805</td>\n",
       "      <td>5278.149902</td>\n",
       "      <td>5281.799805</td>\n",
       "      <td>0.0</td>\n",
       "      <td>5281.799805</td>\n",
       "      <td>5282.712402</td>\n",
       "      <td>NaN</td>\n",
       "    </tr>\n",
       "    <tr>\n",
       "      <th>2010-01-07</th>\n",
       "      <td>5302.549805</td>\n",
       "      <td>5244.750000</td>\n",
       "      <td>5281.799805</td>\n",
       "      <td>5263.100098</td>\n",
       "      <td>0.0</td>\n",
       "      <td>5263.100098</td>\n",
       "      <td>5273.049927</td>\n",
       "      <td>NaN</td>\n",
       "    </tr>\n",
       "    <tr>\n",
       "      <th>2010-01-08</th>\n",
       "      <td>5276.750000</td>\n",
       "      <td>5234.700195</td>\n",
       "      <td>5264.250000</td>\n",
       "      <td>5244.750000</td>\n",
       "      <td>0.0</td>\n",
       "      <td>5244.750000</td>\n",
       "      <td>5255.112549</td>\n",
       "      <td>NaN</td>\n",
       "    </tr>\n",
       "  </tbody>\n",
       "</table>\n",
       "</div>"
      ],
      "text/plain": [
       "                   High          Low         Open        Close  Volume  \\\n",
       "Date                                                                     \n",
       "2010-01-04  5238.450195  5167.100098  5200.899902  5232.200195     0.0   \n",
       "2010-01-05  5288.350098  5242.399902  5277.149902  5277.899902     0.0   \n",
       "2010-01-06  5310.850098  5260.049805  5278.149902  5281.799805     0.0   \n",
       "2010-01-07  5302.549805  5244.750000  5281.799805  5263.100098     0.0   \n",
       "2010-01-08  5276.750000  5234.700195  5264.250000  5244.750000     0.0   \n",
       "\n",
       "              Adj Close     HA_Close  ha_open  \n",
       "Date                                           \n",
       "2010-01-04  5232.200195  5209.662598      NaN  \n",
       "2010-01-05  5277.899902  5271.449951      NaN  \n",
       "2010-01-06  5281.799805  5282.712402      NaN  \n",
       "2010-01-07  5263.100098  5273.049927      NaN  \n",
       "2010-01-08  5244.750000  5255.112549      NaN  "
      ]
     },
     "execution_count": 12,
     "metadata": {},
     "output_type": "execute_result"
    }
   ],
   "source": [
    "NIFTY['HA_Close']=NIFTY[['Open','High','Close','Low']].mean(axis=1)\n",
    "NIFTY['ha_open']=np.nan\n",
    "NIFTY.head()"
   ]
  },
  {
   "cell_type": "code",
   "execution_count": 14,
   "metadata": {},
   "outputs": [],
   "source": [
    "for i in range(0, len(NIFTY)):\n",
    "        if i == 1:\n",
    "            NIFTY['ha_open'][i]= ( (NIFTY['Open'][i] + NIFTY['Close'][i] )/ 2)\n",
    "        else:\n",
    "            NIFTY['ha_open'][i] = ( (NIFTY['ha_open'][i-1] + NIFTY['HA_Close'][i-1] )/ 2)\n"
   ]
  },
  {
   "cell_type": "code",
   "execution_count": 15,
   "metadata": {},
   "outputs": [
    {
     "name": "stdout",
     "output_type": "stream",
     "text": [
      "<class 'pandas.core.frame.DataFrame'>\n",
      "DatetimeIndex: 2579 entries, 2010-01-04 to 2020-07-16\n",
      "Data columns (total 8 columns):\n",
      "High         2579 non-null float64\n",
      "Low          2579 non-null float64\n",
      "Open         2579 non-null float64\n",
      "Close        2579 non-null float64\n",
      "Volume       2579 non-null float64\n",
      "Adj Close    2579 non-null float64\n",
      "HA_Close     2579 non-null float64\n",
      "ha_open      2578 non-null float64\n",
      "dtypes: float64(8)\n",
      "memory usage: 261.3 KB\n"
     ]
    }
   ],
   "source": [
    "NIFTY.info(10)"
   ]
  },
  {
   "cell_type": "code",
   "execution_count": 16,
   "metadata": {},
   "outputs": [],
   "source": [
    "NIFTY['HA_high']=NIFTY.max(axis=1)\n",
    "NIFTY['HA_low']=NIFTY.min(axis=1)\n",
    "NIFTY['diff_t']=NIFTY['HA_Close']-NIFTY['ha_open']\n",
    "NIFTY['has_min']=NIFTY.rolling(10,10)['diff_t'].min()\n",
    "NIFTY['has_max']=NIFTY.rolling(10,10)['diff_t'].max()\n",
    "NIFTY['hastoc']=(NIFTY['diff_t']-NIFTY['has_min'])/(NIFTY['has_max']-NIFTY['has_min'])\n",
    "\n"
   ]
  },
  {
   "cell_type": "code",
   "execution_count": 17,
   "metadata": {},
   "outputs": [
    {
     "data": {
      "text/plain": [
       "0.4961072794432733"
      ]
     },
     "execution_count": 17,
     "metadata": {},
     "output_type": "execute_result"
    }
   ],
   "source": [
    "NIFTY['hastoc'].mean()"
   ]
  },
  {
   "cell_type": "code",
   "execution_count": 28,
   "metadata": {},
   "outputs": [],
   "source": [
    "#simple hatoc STRATEGY\n",
    "NIFTY['bst_1']=np.where((NIFTY['diff_t']<0)&(NIFTY['hastoc']<0.1),1,0)"
   ]
  },
  {
   "cell_type": "code",
   "execution_count": 29,
   "metadata": {},
   "outputs": [
    {
     "data": {
      "text/plain": [
       "0    2100\n",
       "1     479\n",
       "Name: bst_1, dtype: int64"
      ]
     },
     "execution_count": 29,
     "metadata": {},
     "output_type": "execute_result"
    }
   ],
   "source": [
    "NIFTY.bst_1.value_counts()"
   ]
  },
  {
   "cell_type": "code",
   "execution_count": 30,
   "metadata": {},
   "outputs": [],
   "source": [
    "NIFTY['st_1']=NIFTY['bst_1'].diff()\n",
    "NIFTY['log_returns']=np.log(NIFTY['Close']/NIFTY['Close'].shift(1)) \n",
    "NIFTY['st_ret_1']=NIFTY['st_1'].shift(1)*NIFTY['log_returns']"
   ]
  },
  {
   "cell_type": "code",
   "execution_count": 31,
   "metadata": {},
   "outputs": [
    {
     "name": "stdout",
     "output_type": "stream",
     "text": [
      "0.66%\n"
     ]
    }
   ],
   "source": [
    "st1_aret= round(NIFTY['st_ret_1'].mean() *252, 4)\n",
    "print(str(st1_aret*100)+'%')"
   ]
  },
  {
   "cell_type": "code",
   "execution_count": null,
   "metadata": {},
   "outputs": [],
   "source": []
  },
  {
   "cell_type": "code",
   "execution_count": null,
   "metadata": {},
   "outputs": [],
   "source": []
  }
 ],
 "metadata": {
  "kernelspec": {
   "display_name": "Python 3",
   "language": "python",
   "name": "python3"
  },
  "language_info": {
   "codemirror_mode": {
    "name": "ipython",
    "version": 3
   },
   "file_extension": ".py",
   "mimetype": "text/x-python",
   "name": "python",
   "nbconvert_exporter": "python",
   "pygments_lexer": "ipython3",
   "version": "3.7.3"
  },
  "widgets": {
   "application/vnd.jupyter.widget-state+json": {
    "state": {},
    "version_major": 2,
    "version_minor": 0
   }
  }
 },
 "nbformat": 4,
 "nbformat_minor": 2
}
